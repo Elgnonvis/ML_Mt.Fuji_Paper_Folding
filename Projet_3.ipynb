{
  "nbformat": 4,
  "nbformat_minor": 0,
  "metadata": {
    "colab": {
      "name": "Projet_3.ipynb",
      "provenance": [],
      "collapsed_sections": [],
      "authorship_tag": "ABX9TyORD3kotY0srsUakQGMy74p",
      "include_colab_link": true
    },
    "kernelspec": {
      "name": "python3",
      "display_name": "Python 3"
    },
    "language_info": {
      "name": "python"
    }
  },
  "cells": [
    {
      "cell_type": "markdown",
      "metadata": {
        "id": "view-in-github",
        "colab_type": "text"
      },
      "source": [
        "<a href=\"https://colab.research.google.com/github/Elgnonvis/ML_Mt.Fuji_Paper_Folding/blob/master/Projet_3.ipynb\" target=\"_parent\"><img src=\"https://colab.research.google.com/assets/colab-badge.svg\" alt=\"Open In Colab\"/></a>"
      ]
    },
    {
      "cell_type": "markdown",
      "source": [
        "Dans l' exercice \"Essayons d'utiliser Python\", les élèves ont mis en œuvre un programme pour calculer l'épaisseur d'une feuille de papier lorsqu'elle est pliée 43 fois, et ont confirmé que le papier atteindrait la lune s'il était plié 43 fois.\n",
        "\n",
        "t​_n ​=​ ​t​_o*​2**n\n",
        "t_o = 0.00008(m)\n",
        "h_n = t_o*2**n\n",
        "2**n = h_n/t_o\n",
        "ln(2**n) = ln(h_n/t_o)\n",
        "nln(2) = ln(h_n/t_o)\n",
        "n = ln(h_n/t_o)/ln(2)\n",
        "\n",
        "40175×10**16\n"
      ],
      "metadata": {
        "id": "JAFTBH-4WAIt"
      }
    },
    {
      "cell_type": "code",
      "source": [
        "import numpy as np\n",
        "print(\"Solution au problème 1(Dépasser la hauteur du Mont Fuji) \\n\")\n",
        "t_o =  0.00008\n",
        "h_n= 3776\n",
        "#n = round(np.log(h_n/t_o)/np.log(2))\n",
        "n = round(np.log(h_n/t_o)/np.log(2))\n",
        "\n",
        "print(\"Pour dépasser la hauteur du Mont Fuji, il faut plier + de: {} fois la feuille de papier!\".format(n))"
      ],
      "metadata": {
        "colab": {
          "base_uri": "https://localhost:8080/"
        },
        "id": "asUOW7FUWu4X",
        "outputId": "cdfb00c1-6ad5-4e7b-fbc0-8de3596c250c"
      },
      "execution_count": null,
      "outputs": [
        {
          "output_type": "stream",
          "name": "stdout",
          "text": [
            "Solution au problème 1(Dépasser la hauteur du Mont Fuji) \n",
            "\n",
            "Pour dépasser la hauteur du Mont Fuji, il faut plier + de: 25 fois la feuille de papier!\n"
          ]
        }
      ]
    },
    {
      "cell_type": "code",
      "source": [
        "print(\"Solution au problème 2 \\n\")\n",
        "def determine_n(h_n, t_o = 0.00008):\n",
        "  n = round(np.log(h_n/t_o)/np.log(2))\n",
        "  print(\"Il faut plier + de: {} fois la feuille de papier pour atteindre l'étoile non-Soleil la plus proche!\".format(n))\n",
        "determine_n(4.0175*10**16)"
      ],
      "metadata": {
        "colab": {
          "base_uri": "https://localhost:8080/"
        },
        "id": "INULt25UOdJ6",
        "outputId": "7db59d2c-0358-4462-98e7-fbf7152ec540"
      },
      "execution_count": null,
      "outputs": [
        {
          "output_type": "stream",
          "name": "stdout",
          "text": [
            "Solution au problème 2 \n",
            "\n",
            "Il faut plier + de: 69 fois la feuille de papier pour atteindre l'étoile non-Soleil la plus proche!\n"
          ]
        }
      ]
    },
    {
      "cell_type": "code",
      "source": [
        "import math\n",
        "print(\"Solution au problème 3 \\n\")\n",
        "def determine_paper_length(n, thickness = 0.00008):\n",
        "  l = (math.pi*thickness/6)*(2**n +4)*(2**n -1)\n",
        "  print(\"The length of paper needed is: {} . \\n\".format(l))\n",
        "  \n",
        "determine_paper_length(43)\n",
        "determine_paper_length(25)\n",
        "determine_paper_length(69)"
      ],
      "metadata": {
        "id": "BflbaYhPPjOm",
        "colab": {
          "base_uri": "https://localhost:8080/"
        },
        "outputId": "c3d1e8c3-5d88-460e-9185-8492d2e9ca37"
      },
      "execution_count": null,
      "outputs": [
        {
          "output_type": "stream",
          "name": "stdout",
          "text": [
            "Solution au problème 3 \n",
            "\n",
            "The length of paper needed is: 3.240919444170781e+21 . \n",
            "\n",
            "The length of paper needed is: 47161589230.09706 . \n",
            "\n",
            "The length of paper needed is: 1.4595803601100348e+37 . \n",
            "\n"
          ]
        }
      ]
    }
  ]
}